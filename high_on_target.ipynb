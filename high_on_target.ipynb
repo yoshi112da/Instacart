{
  "nbformat": 4,
  "nbformat_minor": 0,
  "metadata": {
    "colab": {
      "provenance": [],
      "mount_file_id": "1ARxJOkaV48PUYVOepSiBZ-Zc98mZG70w",
      "authorship_tag": "ABX9TyMBz853qmuyY46Aj15ac1g6",
      "include_colab_link": true
    },
    "kernelspec": {
      "name": "python3",
      "display_name": "Python 3"
    },
    "language_info": {
      "name": "python"
    }
  },
  "cells": [
    {
      "cell_type": "markdown",
      "metadata": {
        "id": "view-in-github",
        "colab_type": "text"
      },
      "source": [
        "<a href=\"https://colab.research.google.com/github/yoshi112da/Instacart/blob/master/high_on_target.ipynb\" target=\"_parent\"><img src=\"https://colab.research.google.com/assets/colab-badge.svg\" alt=\"Open In Colab\"/></a>"
      ]
    },
    {
      "cell_type": "code",
      "source": [
        "pip install Bio"
      ],
      "metadata": {
        "colab": {
          "base_uri": "https://localhost:8080/"
        },
        "id": "auPf-PdiscTY",
        "outputId": "24fd1afc-912a-4bec-9bdd-b8ba52c70d69"
      },
      "execution_count": 4,
      "outputs": [
        {
          "output_type": "stream",
          "name": "stdout",
          "text": [
            "Looking in indexes: https://pypi.org/simple, https://us-python.pkg.dev/colab-wheels/public/simple/\n",
            "Collecting Bio\n",
            "  Using cached bio-1.5.9-py3-none-any.whl (276 kB)\n",
            "Requirement already satisfied: pandas in /usr/local/lib/python3.9/dist-packages (from Bio) (1.4.4)\n",
            "Collecting mygene\n",
            "  Using cached mygene-3.2.2-py2.py3-none-any.whl (5.4 kB)\n",
            "Requirement already satisfied: requests in /usr/local/lib/python3.9/dist-packages (from Bio) (2.27.1)\n",
            "Requirement already satisfied: pooch in /usr/local/lib/python3.9/dist-packages (from Bio) (1.6.0)\n",
            "Requirement already satisfied: tqdm in /usr/local/lib/python3.9/dist-packages (from Bio) (4.65.0)\n",
            "Collecting gprofiler-official\n",
            "  Using cached gprofiler_official-1.0.0-py3-none-any.whl (9.3 kB)\n",
            "Collecting biopython>=1.80\n",
            "  Using cached biopython-1.81-cp39-cp39-manylinux_2_17_x86_64.manylinux2014_x86_64.whl (3.1 MB)\n",
            "Requirement already satisfied: numpy in /usr/local/lib/python3.9/dist-packages (from biopython>=1.80->Bio) (1.22.4)\n",
            "Collecting biothings-client>=0.2.6\n",
            "  Using cached biothings_client-0.3.0-py2.py3-none-any.whl (29 kB)\n",
            "Requirement already satisfied: python-dateutil>=2.8.1 in /usr/local/lib/python3.9/dist-packages (from pandas->Bio) (2.8.2)\n",
            "Requirement already satisfied: pytz>=2020.1 in /usr/local/lib/python3.9/dist-packages (from pandas->Bio) (2022.7.1)\n",
            "Requirement already satisfied: appdirs>=1.3.0 in /usr/local/lib/python3.9/dist-packages (from pooch->Bio) (1.4.4)\n",
            "Requirement already satisfied: packaging>=20.0 in /usr/local/lib/python3.9/dist-packages (from pooch->Bio) (23.0)\n",
            "Requirement already satisfied: urllib3<1.27,>=1.21.1 in /usr/local/lib/python3.9/dist-packages (from requests->Bio) (1.26.15)\n",
            "Requirement already satisfied: certifi>=2017.4.17 in /usr/local/lib/python3.9/dist-packages (from requests->Bio) (2022.12.7)\n",
            "Requirement already satisfied: idna<4,>=2.5 in /usr/local/lib/python3.9/dist-packages (from requests->Bio) (3.4)\n",
            "Requirement already satisfied: charset-normalizer~=2.0.0 in /usr/local/lib/python3.9/dist-packages (from requests->Bio) (2.0.12)\n",
            "Requirement already satisfied: six>=1.5 in /usr/local/lib/python3.9/dist-packages (from python-dateutil>=2.8.1->pandas->Bio) (1.16.0)\n",
            "Installing collected packages: biopython, gprofiler-official, biothings-client, mygene, Bio\n",
            "Successfully installed Bio-1.5.9 biopython-1.81 biothings-client-0.3.0 gprofiler-official-1.0.0 mygene-3.2.2\n"
          ]
        }
      ]
    },
    {
      "cell_type": "code",
      "source": [
        "from tqdm import tqdm\n",
        "from Bio.Blast import NCBIWWW, NCBIXML\n",
        "from Bio import SeqIO"
      ],
      "metadata": {
        "id": "GVXbOvE72IrO"
      },
      "execution_count": null,
      "outputs": []
    },
    {
      "cell_type": "code",
      "execution_count": 9,
      "metadata": {
        "id": "BWb-9RAusbOK"
      },
      "outputs": [],
      "source": [
        "# from tqdm import tqdm\n",
        "# from Bio.Blast import NCBIWWW, NCBIXML\n",
        "# from Bio import SeqIO\n",
        "\n",
        "# # ゲノム配列を読み込む\n",
        "# genome_seq = list(SeqIO.parse(\"/content/drive/MyDrive/creat_grna/similar_DNAs.fasta\", \"fasta\"))\n",
        "\n",
        "# # gRNA配列を定義する\n",
        "# gRNA_seqs = ['GGATTTTAAATTTTGCCTTTGG', 'TAAAGATTATAATACAAGTGGG', 'GGATTTTTATAATCTTTGATGG',\n",
        "#              'CTTTAATTGCGCTTGATAATGG', 'GGTGTAGTTAAAGATACAAAGG', 'AAAAGTATTTTTGCCCTCTTGG',\n",
        "#              'GTGCCTGCTTTTAAAGAATTGG', 'AAGAATTGGCAAGAAAAATAGG', 'GCTTAAATAAACTTTCTTATGG',\n",
        "#              'TTCAAAAATCGATACCTTTTGG', 'AAAATCGATACCTTTTGGCTGG', 'AAAAAATTTATGCCAAAACAGG',\n",
        "#              'TAAATTTAGCTTGGATTGTTGG']\n",
        "\n",
        "# # 各gRNAについて、51本のゲノム配列に対してBLAST検索を行う\n",
        "# blast_hits = {}\n",
        "# for gRNA in tqdm(gRNA_seqs):\n",
        "#     blast_hits[gRNA] = []\n",
        "#     for genome in genome_seq:\n",
        "#         result_handle = NCBIWWW.qblast(\"blastn\", \"nt\", gRNA, hitlist_size=1)\n",
        "#         blast_records = NCBIXML.parse(result_handle)\n",
        "#         for blast_record in blast_records:\n",
        "#             if len(blast_record.alignments) > 0:\n",
        "#                 hit_score = blast_record.alignments[0].hsps[0].score\n",
        "#                 blast_hits[gRNA].append(hit_score)\n",
        "#     blast_hits[gRNA].sort(reverse=True)\n",
        "\n",
        "# # 各gRNAについて、最も良いBLASTヒットのスコアを計算する\n",
        "# best_hit_scores = {}\n",
        "# for gRNA, hits in tqdm(blast_hits.items()):\n",
        "#     if len(hits) > 0:\n",
        "#         best_hit_scores[gRNA] = hits[0]\n",
        "\n",
        "# # スコアが高い順に上位5つを表示する\n",
        "# sorted_gRNA = sorted(best_hit_scores.items(), key=lambda x: x[1], reverse=True)\n",
        "# for gRNA, score in sorted_gRNA[:5]:\n",
        "#     print(gRNA, score)\n"
      ]
    },
    {
      "cell_type": "code",
      "source": [
        "from Bio import SeqIO\n",
        "\n",
        "# genome.fastaを読み込む\n",
        "genome_records = SeqIO.parse(\"/content/drive/MyDrive/creat_grna/similar_DNAs.fasta\", \"fasta\")\n",
        "gRNA_seqs = ['GGATTTTAAATTTTGCCTTTGG', 'TAAAGATTATAATACAAGTGGG', 'GGATTTTTATAATCTTTGATGG',\n",
        "             'CTTTAATTGCGCTTGATAATGG', 'GGTGTAGTTAAAGATACAAAGG', 'AAAAGTATTTTTGCCCTCTTGG',\n",
        "             'GTGCCTGCTTTTAAAGAATTGG', 'AAGAATTGGCAAGAAAAATAGG', 'GCTTAAATAAACTTTCTTATGG',\n",
        "             'TTCAAAAATCGATACCTTTTGG', 'AAAATCGATACCTTTTGGCTGG', 'AAAAAATTTATGCCAAAACAGG',\n",
        "             'TAAATTTAGCTTGGATTGTTGG']\n",
        "# gRNA配列をマッチするDNAが51本の配列の中で多い順に表示する\n",
        "for gRNA_seq in gRNA_seqs:\n",
        "    counts = []\n",
        "    for record in genome_records:\n",
        "        count = record.seq.count(gRNA_seq)\n",
        "        counts.append((record.id, count))\n",
        "    sorted_counts = sorted(counts, key=lambda x: x[1], reverse=True)\n",
        "    print(f\"gRNA: {gRNA_seq}\")\n",
        "    for record_id, count in sorted_counts[:5]:\n",
        "        print(f\"{record_id}: {count}\")\n"
      ],
      "metadata": {
        "colab": {
          "base_uri": "https://localhost:8080/"
        },
        "id": "vrvtkCVy3nEz",
        "outputId": "24bb755e-23ec-4223-da32-a3449b627545"
      },
      "execution_count": 8,
      "outputs": [
        {
          "output_type": "stream",
          "name": "stdout",
          "text": [
            "gRNA: GGATTTTAAATTTTGCCTTTGG\n",
            "low_seq_39: 1\n",
            "low_seq_0: 0\n",
            "low_seq_1: 0\n",
            "low_seq_2: 0\n",
            "low_seq_3: 0\n",
            "gRNA: TAAAGATTATAATACAAGTGGG\n",
            "gRNA: GGATTTTTATAATCTTTGATGG\n",
            "gRNA: CTTTAATTGCGCTTGATAATGG\n",
            "gRNA: GGTGTAGTTAAAGATACAAAGG\n",
            "gRNA: AAAAGTATTTTTGCCCTCTTGG\n",
            "gRNA: GTGCCTGCTTTTAAAGAATTGG\n",
            "gRNA: AAGAATTGGCAAGAAAAATAGG\n",
            "gRNA: GCTTAAATAAACTTTCTTATGG\n",
            "gRNA: TTCAAAAATCGATACCTTTTGG\n",
            "gRNA: AAAATCGATACCTTTTGGCTGG\n",
            "gRNA: AAAAAATTTATGCCAAAACAGG\n",
            "gRNA: TAAATTTAGCTTGGATTGTTGG\n"
          ]
        }
      ]
    },
    {
      "cell_type": "code",
      "source": [
        "from Bio import SeqIO\n",
        "\n",
        "# ゲノム配列を読み込む\n",
        "genome_seq = list(SeqIO.parse(\"/content/drive/MyDrive/creat_grna/similar_DNAs.fasta\", \"fasta\"))\n",
        "\n",
        "# gRNAの候補を定義する\n",
        "gRNA_seqs = [\n",
        "    'GGATTTTAAATTTTGCCTTTGG', 'TAAAGATTATAATACAAGTGGG', 'GGATTTTTATAATCTTTGATGG',\n",
        "    'CTTTAATTGCGCTTGATAATGG', 'GGTGTAGTTAAAGATACAAAGG', 'AAAAGTATTTTTGCCCTCTTGG',\n",
        "    'GTGCCTGCTTTTAAAGAATTGG', 'AAGAATTGGCAAGAAAAATAGG', 'GCTTAAATAAACTTTCTTATGG',\n",
        "    'TTCAAAAATCGATACCTTTTGG', 'AAAATCGATACCTTTTGGCTGG', 'AAAAAATTTATGCCAAAACAGG',\n",
        "    'TAAATTTAGCTTGGATTGTTGG']\n",
        "\n",
        "# ゲノム配列ごとに最適なマッチングを見つける\n",
        "match_scores = {}\n",
        "for genome in genome_seq:\n",
        "    match_scores[genome.id] = {}\n",
        "    for gRNA in gRNA_seqs:\n",
        "        max_match_len = 0\n",
        "        for i in range(len(genome.seq) - len(gRNA)):\n",
        "            match_len = sum([genome.seq[i+j] == gRNA[j] for j in range(len(gRNA))])\n",
        "            if match_len > max_match_len:\n",
        "                max_match_len = match_len\n",
        "        match_scores[genome.id][gRNA] = max_match_len\n",
        "\n",
        "# 各gRNA候補について、最も高い基質特異性を持つゲノム配列を求める\n",
        "best_match = {}\n",
        "for gRNA in gRNA_seqs:\n",
        "    best_match[gRNA] = \"\"\n",
        "    best_score = 0\n",
        "    for genome in genome_seq:\n",
        "        score = match_scores[genome.id][gRNA] / len\n"
      ],
      "metadata": {
        "id": "M525Q_insutA"
      },
      "execution_count": null,
      "outputs": []
    }
  ]
}