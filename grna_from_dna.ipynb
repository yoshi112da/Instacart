{
  "nbformat": 4,
  "nbformat_minor": 0,
  "metadata": {
    "colab": {
      "provenance": [],
      "mount_file_id": "1UHQXXrd4vFgRHJWB8vIvlruVSE54Ph05",
      "authorship_tag": "ABX9TyMPGZHObmQg9AAF6WgQxV9U",
      "include_colab_link": true
    },
    "kernelspec": {
      "name": "python3",
      "display_name": "Python 3"
    },
    "language_info": {
      "name": "python"
    }
  },
  "cells": [
    {
      "cell_type": "markdown",
      "metadata": {
        "id": "view-in-github",
        "colab_type": "text"
      },
      "source": [
        "<a href=\"https://colab.research.google.com/github/yoshi112da/Instacart/blob/master/grna_from_dna.ipynb\" target=\"_parent\"><img src=\"https://colab.research.google.com/assets/colab-badge.svg\" alt=\"Open In Colab\"/></a>"
      ]
    },
    {
      "cell_type": "code",
      "execution_count": 1,
      "metadata": {
        "colab": {
          "base_uri": "https://localhost:8080/"
        },
        "id": "rt-D4vOh0l8p",
        "outputId": "e7be5d81-ca75-4d8d-9a6e-70d376339f9e"
      },
      "outputs": [
        {
          "output_type": "stream",
          "name": "stdout",
          "text": [
            "Looking in indexes: https://pypi.org/simple, https://us-python.pkg.dev/colab-wheels/public/simple/\n",
            "Collecting Bio\n",
            "  Downloading bio-1.5.6-py3-none-any.whl (275 kB)\n",
            "\u001b[2K     \u001b[90m━━━━━━━━━━━━━━━━━━━━━━━━━━━━━━━━━━━━━━━\u001b[0m \u001b[32m275.6/275.6 KB\u001b[0m \u001b[31m5.2 MB/s\u001b[0m eta \u001b[36m0:00:00\u001b[0m\n",
            "\u001b[?25hCollecting mygene\n",
            "  Downloading mygene-3.2.2-py2.py3-none-any.whl (5.4 kB)\n",
            "Requirement already satisfied: pandas in /usr/local/lib/python3.9/dist-packages (from Bio) (1.4.4)\n",
            "Requirement already satisfied: pooch in /usr/local/lib/python3.9/dist-packages (from Bio) (1.7.0)\n",
            "Collecting biopython>=1.80\n",
            "  Downloading biopython-1.81-cp39-cp39-manylinux_2_17_x86_64.manylinux2014_x86_64.whl (3.1 MB)\n",
            "\u001b[2K     \u001b[90m━━━━━━━━━━━━━━━━━━━━━━━━━━━━━━━━━━━━━━━━\u001b[0m \u001b[32m3.1/3.1 MB\u001b[0m \u001b[31m46.4 MB/s\u001b[0m eta \u001b[36m0:00:00\u001b[0m\n",
            "\u001b[?25hRequirement already satisfied: requests in /usr/local/lib/python3.9/dist-packages (from Bio) (2.25.1)\n",
            "Collecting gprofiler-official\n",
            "  Downloading gprofiler_official-1.0.0-py3-none-any.whl (9.3 kB)\n",
            "Requirement already satisfied: tqdm in /usr/local/lib/python3.9/dist-packages (from Bio) (4.65.0)\n",
            "Requirement already satisfied: numpy in /usr/local/lib/python3.9/dist-packages (from biopython>=1.80->Bio) (1.22.4)\n",
            "Collecting biothings-client>=0.2.6\n",
            "  Downloading biothings_client-0.2.6-py2.py3-none-any.whl (37 kB)\n",
            "Requirement already satisfied: python-dateutil>=2.8.1 in /usr/local/lib/python3.9/dist-packages (from pandas->Bio) (2.8.2)\n",
            "Requirement already satisfied: pytz>=2020.1 in /usr/local/lib/python3.9/dist-packages (from pandas->Bio) (2022.7.1)\n",
            "Requirement already satisfied: platformdirs>=2.5.0 in /usr/local/lib/python3.9/dist-packages (from pooch->Bio) (3.1.1)\n",
            "Requirement already satisfied: packaging>=20.0 in /usr/local/lib/python3.9/dist-packages (from pooch->Bio) (23.0)\n",
            "Requirement already satisfied: chardet<5,>=3.0.2 in /usr/local/lib/python3.9/dist-packages (from requests->Bio) (4.0.0)\n",
            "Requirement already satisfied: idna<3,>=2.5 in /usr/local/lib/python3.9/dist-packages (from requests->Bio) (2.10)\n",
            "Requirement already satisfied: urllib3<1.27,>=1.21.1 in /usr/local/lib/python3.9/dist-packages (from requests->Bio) (1.26.15)\n",
            "Requirement already satisfied: certifi>=2017.4.17 in /usr/local/lib/python3.9/dist-packages (from requests->Bio) (2022.12.7)\n",
            "Requirement already satisfied: six>=1.5 in /usr/local/lib/python3.9/dist-packages (from python-dateutil>=2.8.1->pandas->Bio) (1.15.0)\n",
            "Installing collected packages: biopython, gprofiler-official, biothings-client, mygene, Bio\n",
            "Successfully installed Bio-1.5.6 biopython-1.81 biothings-client-0.2.6 gprofiler-official-1.0.0 mygene-3.2.2\n"
          ]
        }
      ],
      "source": [
        "pip install Bio"
      ]
    },
    {
      "cell_type": "code",
      "source": [
        "from Bio.Blast import NCBIWWW\n",
        "from Bio.Blast import NCBIXML\n",
        "\n",
        "# BLAST検索用のパラメータを設定\n",
        "blast_program = \"blastn\"\n",
        "blast_database = \"nt\"\n",
        "e_value_threshold = 0.01\n",
        "\n",
        "# ESBLをコードする遺伝子のdna配列を設定\n",
        "query_seq =\"TACAATTTTAGAAAATTTCAGTTCATGTTAAAGGATATTTAAATAAAATAAAGCTTTAAAAAGTATTTTGTTTAAAATTATTTAAATAGAAAGATATTTTATGAAAAAAATAACTTTATTTTTACTTTTCTTAAATTTAGTGTTTGGGCAAGATAAGATATTAAATAATTGGTTTAAAGAGTATAATACAAGCGGCACTTTTGTTTTTTATGATGGAAAAACTTGGGCGAGTAACGACTTTTCAAGGGCTATGGAGACTTTCTCTCCCGCTTCCACTTTTAAAATTTTTAATGCTCTAATTGCACTTGATAGTGGTGTGATAAAAACTAAAAAAGAAATTTTTTATCACT/ATAGAGGTGAAAAAGTATTTTTATCTTCTTGGGCGCAAGATATGAATTTAAGTTCAGCTATAAAATATTCTAATGTTCTTGCTTTTAAAGAAGTGGCAAGAAGAATTGGTATCAAAACTATGCAAGAATATTTAAACAAGCTTCATTATGGTAATGCTAAAATTTCCAAGATCGATACTTTTTGGCTTGACAACTCACTAAAAATAAGCGCTAAAGAACAAGCAATTTTGCTTTTTAGACTTTCACAAAATAGCTTACCTTTTTCTCAAGAAGCAATGAATAGTGTTAAGGAAATGATTTATTTAAAAAATATGGAAAATTTAGAGCTTTTTGGAAAAACAGGTTTTAATGATGGGCAAAAAATTGCTTGGATTGTAGGTTTTGTGTATTTAAAAGATGAAAATAAATATAAGGCTTTCGCGCTAAATTTAGATATTGATAAATTTGAAGATTTATATAAAAGAGAAAAAATTTTAGAAAAATATTTAGATGAACTTGTAAAAAAAGTTAAAAATGATGGCTAG\"\n",
        "\n",
        "# BLAST検索を実行\n",
        "result_handle = NCBIWWW.qblast(blast_program, blast_database, query_seq)\n",
        "\n",
        "# BLAST検索結果を解析\n",
        "blast_record = NCBIXML.read(result_handle)\n",
        "\n",
        "# 検索結果から類似配列を抽出\n",
        "similar_seqs = []\n",
        "for alignment in blast_record.alignments:\n",
        "    for hsp in alignment.hsps:\n",
        "        if hsp.expect < e_value_threshold:\n",
        "            similar_seqs.append(alignment.title)\n",
        "\n",
        "# 類似配列のリストを表示\n",
        "print(similar_seqs)"
      ],
      "metadata": {
        "colab": {
          "base_uri": "https://localhost:8080/"
        },
        "id": "dYdlEh0T0sJ4",
        "outputId": "e8c32e19-7411-4844-a4ce-9f6985789ab2"
      },
      "execution_count": 2,
      "outputs": [
        {
          "output_type": "stream",
          "name": "stdout",
          "text": [
            "['gi|1540236105|emb|LR134505.1| Campylobacter jejuni subsp. jejuni strain NCTC12109 genome assembly, chromosome: 1', 'gi|1035503900|ref|NG_049801.1| Campylobacter jejuni blaOXA gene for class D beta-lactamase OXA-61, complete CDS', 'gi|46561719|gb|AY587956.1| Campylobacter jejuni class D beta-lactamase (cam1) gene, complete cds', 'gi|1845902811|gb|CP053659.1| Campylobacter jejuni strain 2016-IZSVE-19-111250 chromosome, complete genome', 'gi|1780454088|gb|CP046317.1| Campylobacter coli strain FDAARGOS_735 chromosome, complete genome', 'gi|1752751055|gb|CP044171.1| Campylobacter jejuni strain AR-0413 chromosome, complete genome', 'gi|1211023375|gb|CP022079.1| Campylobacter jejuni strain FDAARGOS_265 chromosome, complete genome', 'gi|1182970864|gb|CP020776.1| Campylobacter jejuni strain YH002, complete genome', 'gi|756089737|gb|CP010072.1| Campylobacter jejuni subsp. jejuni strain 01-1512, complete genome', 'gi|2285429283|gb|CP101193.1| Campylobacter jejuni strain 2021_ZG_12 chromosome', 'gi|2285424636|gb|CP101195.1| Campylobacter jejuni strain 2021_ZG_03 chromosome', 'gi|2252991598|dbj|AP025983.1| Campylobacter jejuni THJ057 DNA, complete genome', 'gi|2252960613|dbj|AP025951.1| Campylobacter jejuni THJ003 DNA, complete genome', 'gi|2252958800|dbj|AP025949.1| Campylobacter jejuni THJ001 DNA, complete genome', 'gi|2206647327|emb|OV736661.1| Campylobacter jejuni H661', 'gi|2206645588|emb|OV736636.1| Campylobacter jejuni H660', 'gi|2076387964|gb|CP059362.1| Campylobacter jejuni strain D4860 chromosome, complete genome', 'gi|2006506048|gb|CP071578.1| Campylobacter jejuni strain R72 chromosome, complete genome', 'gi|2006030708|gb|CP071459.1| Campylobacter jejuni strain CAMSA2038 chromosome, complete genome', 'gi|1896248737|gb|CP047082.1| Campylobacter jejuni strain 2017D-0132 chromosome, complete genome', 'gi|1887117065|gb|CP059967.1| Campylobacter jejuni strain C201 chromosome, complete genome', 'gi|1887115526|gb|CP059966.1| Campylobacter jejuni strain C203 chromosome, complete genome', 'gi|1537060450|gb|CP034393.1| Campylobacter jejuni subsp. jejuni strain CLB104 chromosome, complete genome', 'gi|2059330092|gb|CP077633.1| Campylobacter jejuni strain R16.2162 chromosome, complete genome', 'gi|2053368951|gb|CP076509.1| Campylobacter coli strain R18.1828 chromosome, complete genome', 'gi|1918098848|gb|CP027634.1| Campylobacter coli strain meC0281 chromosome, complete genome', 'gi|2323120178|gb|CP109649.1| Campylobacter jejuni strain 2015D-0022 chromosome, complete genome', 'gi|2304212288|gb|CP012250.1| Campylobacter jejuni strain CJ516CC45, complete genome', 'gi|2304210633|gb|CP012248.1| Campylobacter jejuni strain CJ514CC45, complete genome', 'gi|2304209037|gb|CP012244.1| Campylobacter jejuni strain CJ509CC45, complete genome', 'gi|2304207336|gb|CP012243.1| Campylobacter jejuni strain CJ512CC45, complete genome', 'gi|2304203849|gb|CP012241.1| Campylobacter jejuni strain CJ065CC48, complete genome', 'gi|2304196142|gb|CP012235.1| Campylobacter jejuni strain CJ004CC45, complete genome', 'gi|2304191199|gb|CP012233.1| Campylobacter jejuni strain CJ020CC45, complete genome', 'gi|2304162383|gb|CP012230.1| Campylobacter jejuni strain CJ517CC45, complete genome', 'gi|2304125068|gb|CP012222.1| Campylobacter jejuni strain CJ007CC45, complete genome', 'gi|2303633038|gb|CP012215.1| Campylobacter jejuni strain CJ518CC45, complete genome', 'gi|2299242112|gb|CP030888.1| Campylobacter jejuni strain CS19 chromosome, complete genome', 'gi|2299220896|gb|CP012205.1| Campylobacter jejuni strain CJ510CC45, complete genome', 'gi|2299220896|gb|CP012205.1| Campylobacter jejuni strain CJ510CC45, complete genome', 'gi|2285424637|gb|CP101194.1| Campylobacter jejuni strain 2021_ZG_08 chromosome', 'gi|2274183455|gb|CP084084.1| Campylobacter jejuni strain MS2074 chromosome, complete genome', 'gi|2265237087|gb|CP029054.1| Campylobacter jejuni strain FORC_084 chromosome, complete genome', 'gi|2253017978|dbj|AP026014.1| Campylobacter jejuni THJ114 DNA, complete genome', 'gi|2253012678|dbj|AP026007.1| Campylobacter jejuni THJ109 DNA, complete genome', 'gi|2253010852|dbj|AP026005.1| Campylobacter jejuni THJ108 DNA, complete genome', 'gi|2253008984|dbj|AP026003.1| Campylobacter jejuni THJ101 DNA, complete genome', 'gi|2253007116|dbj|AP026001.1| Campylobacter jejuni THJ099 DNA, complete genome', 'gi|2252999069|dbj|AP025992.1| Campylobacter jejuni THJ094 DNA, complete genome', 'gi|2252997320|dbj|AP025990.1| Campylobacter jejuni THJ067 DNA, complete genome', 'gi|2252995328|dbj|AP025987.1| Campylobacter jejuni THJ065 DNA, complete genome']\n"
          ]
        }
      ]
    },
    {
      "cell_type": "code",
      "source": [
        "# 検索結果から類似配列の塩基配列を抽出\n",
        "from Bio.Seq import Seq\n",
        "similar_DNAs=[]\n",
        "for alignment in blast_record.alignments:\n",
        "    for hsp in alignment.hsps:\n",
        "        if hsp.expect < 0.01:\n",
        "          similar_DNAs.append(hsp.sbjct)"
      ],
      "metadata": {
        "id": "9MZW10ZG3NJw"
      },
      "execution_count": 3,
      "outputs": []
    },
    {
      "cell_type": "code",
      "source": [
        "!apt-get install muscle"
      ],
      "metadata": {
        "colab": {
          "base_uri": "https://localhost:8080/"
        },
        "id": "bZvNYu2Q44S4",
        "outputId": "16f25563-4898-4c92-a07a-b068cc87a8b9"
      },
      "execution_count": 4,
      "outputs": [
        {
          "output_type": "stream",
          "name": "stdout",
          "text": [
            "Reading package lists... Done\n",
            "Building dependency tree       \n",
            "Reading state information... Done\n",
            "The following NEW packages will be installed:\n",
            "  muscle\n",
            "0 upgraded, 1 newly installed, 0 to remove and 22 not upgraded.\n",
            "Need to get 244 kB of archives.\n",
            "After this operation, 709 kB of additional disk space will be used.\n",
            "Get:1 http://archive.ubuntu.com/ubuntu focal/universe amd64 muscle amd64 1:3.8.1551-2build1 [244 kB]\n",
            "Fetched 244 kB in 2s (141 kB/s)\n",
            "Selecting previously unselected package muscle.\n",
            "(Reading database ... 128276 files and directories currently installed.)\n",
            "Preparing to unpack .../muscle_1%3a3.8.1551-2build1_amd64.deb ...\n",
            "Unpacking muscle (1:3.8.1551-2build1) ...\n",
            "Setting up muscle (1:3.8.1551-2build1) ...\n",
            "Processing triggers for man-db (2.9.1-1) ...\n"
          ]
        }
      ]
    },
    {
      "cell_type": "code",
      "source": [
        "from Bio import AlignIO\n",
        "from io import StringIO\n",
        "from Bio.Align.Applications import MuscleCommandline\n",
        "from Bio import SeqIO\n",
        "\n",
        "# 入力配列をFASTAファイルに書き出す\n",
        "with open(r'/content/drive/MyDrive/creat_grna/sequences3.fasta', 'w') as f:\n",
        "    for i, seq in enumerate(similar_DNAs):\n",
        "        f.write(f'>seq_{i}\\n{seq}\\n')\n",
        "\n",
        "# Muscleを呼び出すコマンドを生成する\n",
        "muscle_cline = MuscleCommandline(input=r'/content/drive/MyDrive/creat_grna/sequences3.fasta')\n",
        "\n",
        "# Muscleを実行してアライメント結果を取得する\n",
        "stdout, stderrr = muscle_cline()\n",
        "alignment = AlignIO.read(StringIO(stdout), 'fasta')\n",
        "\n",
        "# アライメント結\n",
        "alignment"
      ],
      "metadata": {
        "colab": {
          "base_uri": "https://localhost:8080/"
        },
        "id": "CBGlpBsg4KtI",
        "outputId": "9b67f001-2126-4810-e49d-74acabd2b4b6"
      },
      "execution_count": 5,
      "outputs": [
        {
          "output_type": "execute_result",
          "data": {
            "text/plain": [
              "<<class 'Bio.Align.MultipleSeqAlignment'> instance (51 records of length 875) at 7f108c1822b0>"
            ]
          },
          "metadata": {},
          "execution_count": 5
        }
      ]
    },
    {
      "cell_type": "code",
      "source": [
        "output_file = r\"/content/drive/MyDrive/creat_grna/alignment2.fasta\"  # the name of the output file\n",
        "\n",
        "SeqIO.write(alignment, output_file, \"fasta\")"
      ],
      "metadata": {
        "colab": {
          "base_uri": "https://localhost:8080/"
        },
        "id": "4ZeXL0cE5W34",
        "outputId": "2c8fced1-baf4-4fe6-f910-5cea0e8930e4"
      },
      "execution_count": 6,
      "outputs": [
        {
          "output_type": "execute_result",
          "data": {
            "text/plain": [
              "51"
            ]
          },
          "metadata": {},
          "execution_count": 6
        }
      ]
    },
    {
      "cell_type": "code",
      "source": [
        "from Bio.Seq import Seq\n",
        "\n",
        "def create_grna2(multialign, pam='GG', min_specificity=4):\n",
        "    \"\"\"Create a gRNA from a MultipleSeqAlignment object.\n",
        "    The gRNA is designed to target the sequence immediately upstream of the PAM site.\n",
        "    Only sequences that have at least min_specificity number of consecutive non-PAM nucleotides\n",
        "    are considered specific enough for gRNA design.\n",
        "    \"\"\"\n",
        "    # Extract the sequences from the alignment as a list of Seq objects\n",
        "    sequences = [Seq(str(record.seq)) for record in multialign]\n",
        "\n",
        "    grnas = []\n",
        "    # Iterate over all possible PAM sites within the alignment\n",
        "    for record in multialign :\n",
        "      for i in range(len(record.seq) - 3):\n",
        "          # Extract the PAM site\n",
        "          pam_site = str(record.seq[i:i+2])\n",
        "          if pam_site == pam:\n",
        "              # Extract the target sequence immediately upstream of the PAM site\n",
        "              target_sequence = record.seq[i - 20:i]\n",
        "\n",
        "              # Check if the target sequence is specific enough for gRNA design\n",
        "              specificity_count = 0\n",
        "              for nucleotide in target_sequence:\n",
        "                  if nucleotide != 'G' and nucleotide != 'C':\n",
        "                      specificity_count += 1\n",
        "                      if specificity_count >= min_specificity:\n",
        "                          break\n",
        "              else:\n",
        "                  # Create the gRNA sequence by adding the target sequence and the PAM sequence together\n",
        "                  grna = str(target_sequence) + pam\n",
        "                  print(grna)\n",
        "                  grnas.append(grna)\n",
        "\n",
        "    return grnas\n"
      ],
      "metadata": {
        "id": "Dv0I14ORqd72"
      },
      "execution_count": 26,
      "outputs": []
    },
    {
      "cell_type": "code",
      "source": [
        "def create_grna3(multialign, pam='GG', min_specificity=4):\n",
        "    \"\"\"Create a gRNA from a MultipleSeqAlignment object.\n",
        "    The gRNA is designed to target the sequence immediately upstream of the PAM site.\n",
        "    Only sequences that have at least min_specificity number of consecutive non-PAM nucleotides\n",
        "    are considered specific enough for gRNA design.\n",
        "    \"\"\"\n",
        "    # Extract the sequences from the alignment as a list of Seq objects\n",
        "    sequences = [Seq(str(record.seq)) for record in multialign]\n",
        "    \n",
        "    # Find all valid PAM sites in the first sequence\n",
        "    pam_indices = [i for i in range(len(sequences[0]) - len(pam) + 1) if sequences[0][i:i+len(pam)] == pam]\n",
        "    if not pam_indices:\n",
        "        # If PAM is not found, check for a wildcard N in the PAM\n",
        "        pam_with_wildcard = pam.replace('N', '[ATCG]')\n",
        "        pam_indices = [i for i in range(len(sequences[0]) - len(pam_with_wildcard) + 1) if re.search(pam_with_wildcard, str(sequences[0][i:i+len(pam_with_wildcard)]))]\n",
        "        if not pam_indices:\n",
        "            raise ValueError(\"No PAM site ({}) found in alignment.\".format(pam))\n",
        "\n",
        "    grnas = []\n",
        "    for pam_index in pam_indices:\n",
        "        # Check that PAM is at least 23 nucleotides from start of sequence\n",
        "        if pam_index < 23:\n",
        "            continue\n",
        "\n",
        "        # Extract the target sequence immediately upstream of the PAM site\n",
        "        target_sequence = sequences[0][pam_index - 20:pam_index]\n",
        "\n",
        "        # Check if the target sequence is specific enough for gRNA design\n",
        "        if target_sequence.count('G') + target_sequence.count('C') < min_specificity:\n",
        "            continue\n",
        "\n",
        "        # Check that target sequence doesn't contain any ambiguous bases\n",
        "        if 'N' in target_sequence:\n",
        "            continue\n",
        "\n",
        "        # Create the gRNA sequence by adding the target sequence and the PAM sequence together\n",
        "        grna = str(target_sequence) + pam\n",
        "        grnas.append(grna)\n",
        "\n",
        "    if not grnas:\n",
        "        raise ValueError(\"No specific enough target sequence found in alignment.\")\n",
        "\n",
        "    return grnas\n"
      ],
      "metadata": {
        "id": "AV9wJeCnxAGu"
      },
      "execution_count": 35,
      "outputs": []
    },
    {
      "cell_type": "code",
      "source": [
        "from Bio.Seq import Seq\n",
        "  def create_grna(multialign, pam='GG', min_specificity=4):\n",
        "      \"\"\"Create a gRNA from a MultipleSeqAlignment object.\n",
        "      The gRNA is designed to target the sequence immediately upstream of the PAM site.\n",
        "      Only sequences that have at least min_specificity number of consecutive non-PAM nucleotides\n",
        "      are considered specific enough for gRNA design.\n",
        "      \"\"\"\n",
        "      # Extract the sequences from the alignment as a list of Seq objects\n",
        "      sequences = [Seq(str(record.seq)) for record in multialign]\n",
        "      \n",
        "      # Find the PAM site in the first sequence\n",
        "      pam_index = sequences[0].find(pam)\n",
        "      if pam_index == -1:\n",
        "          # If PAM is not found, check for a wildcard N in the PAM\n",
        "          pam_with_wildcard = pam.replace('N', '[ATCG]')\n",
        "          pam_index = sequences[0].find(pam_with_wildcard)\n",
        "          if pam_index == -1:\n",
        "              raise ValueError(\"No PAM site ({}) found in alignment.\".format(pam))\n",
        "\n",
        "      # Extract the target sequence immediately upstream of the PAM site\n",
        "      target_sequence = sequences[0][pam_index - 20:pam_index]\n",
        "\n",
        "      # Check if the target sequence is specific enough for gRNA design\n",
        "      for seq in sequences:\n",
        "          specificity_count = 0\n",
        "          for nucleotide in str(seq[pam_index - 20:pam_index]):\n",
        "              if nucleotide != 'G' and nucleotide != 'C':\n",
        "                  specificity_count += 1\n",
        "                  if specificity_count >= min_specificity:\n",
        "                      break\n",
        "          else:\n",
        "              continue\n",
        "          break\n",
        "      else:\n",
        "          raise ValueError(\"No specific enough target sequence found in alignment.\")\n",
        "\n",
        "      # Create the gRNA sequence by adding the target sequence and the PAM sequence together\n",
        "      grna = str(target_sequence) + pam\n",
        "\n",
        "      return grna\n"
      ],
      "metadata": {
        "id": "aw-WAF2n4ZU4"
      },
      "execution_count": 14,
      "outputs": []
    },
    {
      "cell_type": "code",
      "source": [
        "grnas=create_grna3(alignment, pam='GG',min_specificity=4)"
      ],
      "metadata": {
        "id": "F7uoeMBUxHWE"
      },
      "execution_count": 36,
      "outputs": []
    },
    {
      "cell_type": "code",
      "source": [
        "grnas"
      ],
      "metadata": {
        "colab": {
          "base_uri": "https://localhost:8080/"
        },
        "id": "0OoCATm95LuR",
        "outputId": "7ea39bbb-6fd3-4053-85c9-0ad7f52fc605"
      },
      "execution_count": 37,
      "outputs": [
        {
          "output_type": "execute_result",
          "data": {
            "text/plain": [
              "['GGATTTTAAATTTTGCCTTTGG',\n",
              " 'TAAAGATTATAATACAAGTGGG',\n",
              " 'GGATTTTTATAATCTTTGATGG',\n",
              " 'CTTTAATTGCGCTTGATAATGG',\n",
              " 'GGTGTAGTTAAAGATACAAAGG',\n",
              " 'AAAAGTATTTTTGCCCTCTTGG',\n",
              " 'GTGCCTGCTTTTAAAGAATTGG',\n",
              " 'AAGAATTGGCAAGAAAAATAGG',\n",
              " 'GCTTAAATAAACTTTCTTATGG',\n",
              " 'TTCAAAAATCGATACCTTTTGG',\n",
              " 'AAAATCGATACCTTTTGGCTGG',\n",
              " 'AAAAAATTTATGCCAAAACAGG',\n",
              " 'TAAATTTAGCTTGGATTGTTGG']"
            ]
          },
          "metadata": {},
          "execution_count": 37
        }
      ]
    },
    {
      "cell_type": "code",
      "source": [],
      "metadata": {
        "id": "8bKcl_GL8NHm"
      },
      "execution_count": null,
      "outputs": []
    }
  ]
}